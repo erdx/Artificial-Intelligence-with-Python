{
  "nbformat": 4,
  "nbformat_minor": 0,
  "metadata": {
    "colab": {
      "provenance": [],
      "toc_visible": true,
      "mount_file_id": "1gCgZ41lkAk6WRwcBU5ffJq4r0gabeLxm",
      "authorship_tag": "ABX9TyM9tLVkCnOtppjH/9JJM0Mb",
      "include_colab_link": true
    },
    "kernelspec": {
      "name": "python3",
      "display_name": "Python 3"
    },
    "language_info": {
      "name": "python"
    },
    "accelerator": "GPU",
    "gpuClass": "standard"
  },
  "cells": [
    {
      "cell_type": "markdown",
      "metadata": {
        "id": "view-in-github",
        "colab_type": "text"
      },
      "source": [
        "<a href=\"https://colab.research.google.com/github/erdx/Artificial-Intelligence-with-Python/blob/master/XGBoost_Reconnaissance.ipynb\" target=\"_parent\"><img src=\"https://colab.research.google.com/assets/colab-badge.svg\" alt=\"Open In Colab\"/></a>"
      ]
    },
    {
      "cell_type": "code",
      "execution_count": 1,
      "metadata": {
        "id": "UXeLlc0FdJRU"
      },
      "outputs": [],
      "source": [
        "import numpy as np\n",
        "import pandas as pd\n",
        "import xgboost as xgb\n",
        "import scipy\n",
        "from sklearn.model_selection import train_test_split\n",
        "from sklearn.metrics import classification_report, confusion_matrix\n",
        "\n",
        "\n",
        "df=pd.read_csv(\"/UNSW_NB15_training-set.csv\")\n",
        "df.drop('label', axis=1, inplace=True)\n",
        "df.drop('id', axis=1, inplace=True)\n"
      ]
    },
    {
      "cell_type": "code",
      "source": [
        "# Aşağıdaki feature dönüşümü ile Accuracy ve Precision yükselirken Recall düşüyor\n",
        "df['sBytePerPkt']=df['sbytes']/df['spkts']\n",
        "df.drop('sbytes',axis=1, inplace=True)\n",
        "df.drop('spkts',axis=1, inplace=True)\n",
        "df['dBytePerPkt']=df['dbytes']/df['dpkts']\n",
        "df.drop('dbytes',axis=1, inplace=True)\n",
        "df.drop('dpkts',axis=1, inplace=True)\n",
        "\n",
        "# Binary Classification yapıyorum.Reconnaissance = 1; Değilse 0\n",
        "df['attack_cat']=df['attack_cat'].apply(lambda x: 1 if x=='Reconnaissance' else 0)\n",
        "\n",
        "from sklearn.preprocessing import LabelEncoder\n",
        "lblE = LabelEncoder()\n",
        "df['proto']= lblE.fit_transform(df['proto'])\n",
        "df['service']= lblE.fit_transform(df['service'])\n",
        "df['state']= lblE.fit_transform(df['state'])\n",
        "#df['attack_cat'] = lblE.fit_transform(df['attack_cat'])\n",
        "\n",
        "data=df.drop('attack_cat', axis=1)\n",
        "target=df['attack_cat']\n",
        "\n",
        "print(df.shape)\n",
        "\n",
        "from sklearn.svm import SVC\n",
        "from sklearn.metrics import accuracy_score\n",
        "from sklearn.metrics import precision_score\n",
        "from sklearn.metrics import confusion_matrix\n",
        "from sklearn.metrics import recall_score\n",
        "X_train, X_test, y_train, y_test = train_test_split(data, target, test_size=0.3, random_state=42)\n",
        "\n",
        "#Standard Ölçekleme\n",
        "from sklearn.preprocessing import StandardScaler\n",
        "scaler = StandardScaler()\n",
        "X_train_scaled = scaler.fit_transform(X_train)\n",
        "X_test_scaled = scaler.transform(X_test)\n",
        "\n"
      ],
      "metadata": {
        "colab": {
          "base_uri": "https://localhost:8080/"
        },
        "id": "YAbpKn1bdS3W",
        "outputId": "372e4695-ae26-48b2-8f55-64d17b56fee6"
      },
      "execution_count": 3,
      "outputs": [
        {
          "output_type": "stream",
          "name": "stdout",
          "text": [
            "(82332, 41)\n"
          ]
        }
      ]
    },
    {
      "cell_type": "code",
      "source": [
        "from xgboost import XGBClassifier\n",
        "model = XGBClassifier()\n",
        "\n",
        "\n",
        "model.fit(X_train_scaled, y_train)\n",
        "\n",
        "# make predictions for test data\n",
        "y_pred = model.predict(X_test_scaled)\n",
        "predictions = [round(value) for value in y_pred]\n",
        "\n",
        "accuracy = accuracy_score(y_test, predictions)\n",
        "precision = precision_score(y_test,predictions)\n",
        "recall=recall_score(y_test,predictions)\n",
        "\n",
        "\n",
        "print(\"Accuracy: %.2f%%\" % (accuracy * 100.0))\n",
        "print(\"Precision :%.2f%%\"% (precision*100.0))\n",
        "print(\"Recall :%.2f%%\"% (recall*100.0))\n",
        "\n",
        "\n",
        "import matplotlib.pyplot as plt\n",
        "\n",
        "def confMatrix(y_test, y_predicted):\n",
        "        cm = confusion_matrix(y_test, y_predicted)\n",
        "        plt.figure(figsize=(15, 10))\n",
        "        plt.clf()\n",
        "        plt.imshow(cm, interpolation='nearest', cmap=plt.cm.Wistia)\n",
        "        classNames = ['Negative', 'Positive']\n",
        "        plt.title('Confusion Matrix')\n",
        "        plt.ylabel('True label')\n",
        "        plt.xlabel('Predicted label')\n",
        "        tick_marks = np.arange(len(classNames))\n",
        "        plt.xticks(tick_marks, classNames, rotation=45)\n",
        "        plt.yticks(tick_marks, classNames)\n",
        "        s = [['TN', 'FP'], ['FN', 'TP']]\n",
        "\n",
        "        for i in range(2):\n",
        "                for j in range(2):\n",
        "                        plt.text(j, i, str(s[i][j]) + \" = \" + str(cm[i][j]))\n",
        "        plt.show()\n",
        "\n",
        "\n",
        "\n",
        "confMatrix(y_test,y_pred)\n",
        "# TP: 568\n",
        "# TN: 15713\n",
        "# FP: 31\n",
        "# FN: 155\n",
        "\n",
        "\n",
        "import matplotlib.pyplot as plt\n",
        "from inspect import signature\n",
        "from sklearn.metrics import precision_recall_curve\n",
        "precision, recall, _ = precision_recall_curve(y_test, y_pred)\n",
        "print(precision, recall)\n",
        "# In matplotlib < 1.5, plt.fill_between does not have a 'step' argument\n",
        "step_kwargs = ({'step': 'post'}\n",
        "               if 'step' in signature(plt.fill_between).parameters\n",
        "               else {})\n",
        "plt.step(recall, precision, color='b', alpha=0.2, where='post')\n",
        "plt.fill_between(recall, precision, alpha=0.2, color='b', **step_kwargs)\n",
        "\n",
        "plt.xlabel('Recall')\n",
        "plt.ylabel('Precision')\n",
        "plt.ylim([0.0, 1.05])\n",
        "plt.xlim([0.0, 1.0])\n",
        "#plt.title('2-class Precision-Recall curve: AP={0:0.2f}'.format(average_precision))\n",
        "plt.show()"
      ],
      "metadata": {
        "colab": {
          "base_uri": "https://localhost:8080/",
          "height": 981
        },
        "id": "WJMqMDyodTFV",
        "outputId": "8afe200a-ea55-4010-d463-5fb4cfd461a4"
      },
      "execution_count": 4,
      "outputs": [
        {
          "output_type": "stream",
          "name": "stdout",
          "text": [
            "Accuracy: 98.94%\n",
            "Precision :95.37%\n",
            "Recall :79.32%\n"
          ]
        },
        {
          "output_type": "display_data",
          "data": {
            "text/plain": [
              "<Figure size 1080x720 with 1 Axes>"
            ],
            "image/png": "[encoded data removed]"
          },
          "metadata": {
            "needs_background": "light"
          }
        },
        {
          "output_type": "stream",
          "name": "stdout",
          "text": [
            "[0.04307692 0.95367232 1.        ] [1.         0.79323308 0.        ]\n"
          ]
        },
        {
          "output_type": "display_data",
          "data": {
            "text/plain": [
              "<Figure size 432x288 with 1 Axes>"
            ],
            "image/png": "[encoded data removed]"
          },
          "metadata": {
            "needs_background": "light"
          }
        }
      ]
    },
    {
      "cell_type": "markdown",
      "source": [
        "Şimdi yapmak istediğim,\n",
        "Modelin classification tahminlerini bir sütun olarak orijinal datasete eklemek.\n",
        "Ve ardından modelin reconnaissance olarak belirlediği kayıtları silmek ve yeni bir DataFrame oluşturup bu kez attack_cat kısmından MultiClassification yapmak.\n",
        "\n",
        "\n"
      ],
      "metadata": {
        "id": "RpGirsPThsOt"
      }
    }
  ]
}